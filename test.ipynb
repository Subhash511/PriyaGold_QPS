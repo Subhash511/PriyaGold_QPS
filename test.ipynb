{
 "cells": [
  {
   "cell_type": "code",
   "execution_count": null,
   "id": "e2522bdd",
   "metadata": {},
   "outputs": [],
   "source": [
    "import pandas as pd\n",
    "import json"
   ]
  },
  {
   "cell_type": "code",
   "execution_count": null,
   "id": "5f52acb5",
   "metadata": {},
   "outputs": [],
   "source": [
    "# Load your CSV\n",
    "df = pd.read_excel(\"data/data.xlsx\",sheet_name='data')"
   ]
  },
  {
   "cell_type": "code",
   "execution_count": null,
   "id": "0fe0f6e3",
   "metadata": {},
   "outputs": [],
   "source": [
    "df.rename(columns={'Whole_Saler':'A'},inplace=True)"
   ]
  },
  {
   "cell_type": "code",
   "execution_count": null,
   "id": "9a5d142b",
   "metadata": {},
   "outputs": [],
   "source": [
    "df['Name_of_Route'] = df['Name_of_Route'].fillna('N/A',inplace=True)"
   ]
  },
  {
   "cell_type": "code",
   "execution_count": null,
   "id": "7364f64a",
   "metadata": {},
   "outputs": [],
   "source": [
    "df['Whole_Saler'] = df[\"A\"]+\"_( \"+df[\"Name_of_Route\"] + \" )\""
   ]
  },
  {
   "cell_type": "code",
   "execution_count": null,
   "id": "999876fa",
   "metadata": {},
   "outputs": [],
   "source": [
    "df.sort_values(by=['State','Name_of_SS','Name_of_DB'],inplace=True)"
   ]
  },
  {
   "cell_type": "code",
   "execution_count": null,
   "id": "d4177a84",
   "metadata": {},
   "outputs": [],
   "source": [
    "df.head(5)"
   ]
  },
  {
   "cell_type": "code",
   "execution_count": null,
   "id": "74087e48",
   "metadata": {},
   "outputs": [],
   "source": [
    "\n",
    "# Create nested dictionary with password at DB level\n",
    "nested = {}\n",
    "\n",
    "for _, row in df.iterrows():\n",
    "    state = row['State']\n",
    "    ss = row['Name_of_SS']\n",
    "    db = row['Name_of_DB']\n",
    "    ws = row['Whole_Saler'] # Whole_Saler\n",
    "    pwd = row['Password']\n",
    "\n",
    "    state_dict = nested.setdefault(state, {})\n",
    "    ss_dict = state_dict.setdefault(ss, {})\n",
    "    db_dict = ss_dict.setdefault(db, {\"password\": pwd, \"wholesalers\": []})\n",
    "\n",
    "    db_dict[\"wholesalers\"].append(ws)\n",
    "\n",
    "# Save\n",
    "with open(\"data/dropdown_with_password.json\", \"w\") as f:\n",
    "    json.dump(nested, f, indent=4)\n"
   ]
  },
  {
   "cell_type": "code",
   "execution_count": null,
   "id": "81ab09ea",
   "metadata": {},
   "outputs": [],
   "source": []
  }
 ],
 "metadata": {
  "kernelspec": {
   "display_name": "Python 3",
   "language": "python",
   "name": "python3"
  },
  "language_info": {
   "codemirror_mode": {
    "name": "ipython",
    "version": 3
   },
   "file_extension": ".py",
   "mimetype": "text/x-python",
   "name": "python",
   "nbconvert_exporter": "python",
   "pygments_lexer": "ipython3",
   "version": "3.13.3"
  }
 },
 "nbformat": 4,
 "nbformat_minor": 5
}
